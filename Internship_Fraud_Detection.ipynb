{
 "cells": [
  {
   "cell_type": "code",
   "execution_count": 46,
   "id": "4a5fa3d9",
   "metadata": {},
   "outputs": [],
   "source": [
    "import pandas as pd\n",
    "import seaborn as sns\n",
    "import matplotlib.pyplot as plt\n",
    "import numpy as np\n",
    "from statsmodels.stats.outliers_influence import variance_inflation_factor\n",
    "from statsmodels.tools.tools import add_constant\n",
    "from sklearn.preprocessing import LabelEncoder\n",
    "from sklearn.model_selection import train_test_split\n",
    "from sklearn.linear_model import LogisticRegression\n",
    "from sklearn.metrics import accuracy_score, classification_report, confusion_matrix\n",
    "from sklearn.tree import DecisionTreeClassifier\n",
    "from scipy import stats\n",
    "from imblearn.over_sampling import SMOTE\n",
    "from sklearn.ensemble import RandomForestClassifier"
   ]
  },
  {
   "cell_type": "code",
   "execution_count": 2,
   "id": "22edec3c",
   "metadata": {},
   "outputs": [],
   "source": [
    "df = pd.read_csv(r\"D:\\Fraud.csv\")"
   ]
  },
  {
   "cell_type": "code",
   "execution_count": 3,
   "id": "ad94b08f",
   "metadata": {},
   "outputs": [
    {
     "data": {
      "text/html": [
       "<div>\n",
       "<style scoped>\n",
       "    .dataframe tbody tr th:only-of-type {\n",
       "        vertical-align: middle;\n",
       "    }\n",
       "\n",
       "    .dataframe tbody tr th {\n",
       "        vertical-align: top;\n",
       "    }\n",
       "\n",
       "    .dataframe thead th {\n",
       "        text-align: right;\n",
       "    }\n",
       "</style>\n",
       "<table border=\"1\" class=\"dataframe\">\n",
       "  <thead>\n",
       "    <tr style=\"text-align: right;\">\n",
       "      <th></th>\n",
       "      <th>step</th>\n",
       "      <th>type</th>\n",
       "      <th>amount</th>\n",
       "      <th>nameOrig</th>\n",
       "      <th>oldbalanceOrg</th>\n",
       "      <th>newbalanceOrig</th>\n",
       "      <th>nameDest</th>\n",
       "      <th>oldbalanceDest</th>\n",
       "      <th>newbalanceDest</th>\n",
       "      <th>isFraud</th>\n",
       "      <th>isFlaggedFraud</th>\n",
       "    </tr>\n",
       "  </thead>\n",
       "  <tbody>\n",
       "    <tr>\n",
       "      <th>0</th>\n",
       "      <td>1</td>\n",
       "      <td>PAYMENT</td>\n",
       "      <td>9839.64</td>\n",
       "      <td>C1231006815</td>\n",
       "      <td>170136.00</td>\n",
       "      <td>160296.36</td>\n",
       "      <td>M1979787155</td>\n",
       "      <td>0.00</td>\n",
       "      <td>0.00</td>\n",
       "      <td>0</td>\n",
       "      <td>0</td>\n",
       "    </tr>\n",
       "    <tr>\n",
       "      <th>1</th>\n",
       "      <td>1</td>\n",
       "      <td>PAYMENT</td>\n",
       "      <td>1864.28</td>\n",
       "      <td>C1666544295</td>\n",
       "      <td>21249.00</td>\n",
       "      <td>19384.72</td>\n",
       "      <td>M2044282225</td>\n",
       "      <td>0.00</td>\n",
       "      <td>0.00</td>\n",
       "      <td>0</td>\n",
       "      <td>0</td>\n",
       "    </tr>\n",
       "    <tr>\n",
       "      <th>2</th>\n",
       "      <td>1</td>\n",
       "      <td>TRANSFER</td>\n",
       "      <td>181.00</td>\n",
       "      <td>C1305486145</td>\n",
       "      <td>181.00</td>\n",
       "      <td>0.00</td>\n",
       "      <td>C553264065</td>\n",
       "      <td>0.00</td>\n",
       "      <td>0.00</td>\n",
       "      <td>1</td>\n",
       "      <td>0</td>\n",
       "    </tr>\n",
       "    <tr>\n",
       "      <th>3</th>\n",
       "      <td>1</td>\n",
       "      <td>CASH_OUT</td>\n",
       "      <td>181.00</td>\n",
       "      <td>C840083671</td>\n",
       "      <td>181.00</td>\n",
       "      <td>0.00</td>\n",
       "      <td>C38997010</td>\n",
       "      <td>21182.00</td>\n",
       "      <td>0.00</td>\n",
       "      <td>1</td>\n",
       "      <td>0</td>\n",
       "    </tr>\n",
       "    <tr>\n",
       "      <th>4</th>\n",
       "      <td>1</td>\n",
       "      <td>PAYMENT</td>\n",
       "      <td>11668.14</td>\n",
       "      <td>C2048537720</td>\n",
       "      <td>41554.00</td>\n",
       "      <td>29885.86</td>\n",
       "      <td>M1230701703</td>\n",
       "      <td>0.00</td>\n",
       "      <td>0.00</td>\n",
       "      <td>0</td>\n",
       "      <td>0</td>\n",
       "    </tr>\n",
       "    <tr>\n",
       "      <th>...</th>\n",
       "      <td>...</td>\n",
       "      <td>...</td>\n",
       "      <td>...</td>\n",
       "      <td>...</td>\n",
       "      <td>...</td>\n",
       "      <td>...</td>\n",
       "      <td>...</td>\n",
       "      <td>...</td>\n",
       "      <td>...</td>\n",
       "      <td>...</td>\n",
       "      <td>...</td>\n",
       "    </tr>\n",
       "    <tr>\n",
       "      <th>6362615</th>\n",
       "      <td>743</td>\n",
       "      <td>CASH_OUT</td>\n",
       "      <td>339682.13</td>\n",
       "      <td>C786484425</td>\n",
       "      <td>339682.13</td>\n",
       "      <td>0.00</td>\n",
       "      <td>C776919290</td>\n",
       "      <td>0.00</td>\n",
       "      <td>339682.13</td>\n",
       "      <td>1</td>\n",
       "      <td>0</td>\n",
       "    </tr>\n",
       "    <tr>\n",
       "      <th>6362616</th>\n",
       "      <td>743</td>\n",
       "      <td>TRANSFER</td>\n",
       "      <td>6311409.28</td>\n",
       "      <td>C1529008245</td>\n",
       "      <td>6311409.28</td>\n",
       "      <td>0.00</td>\n",
       "      <td>C1881841831</td>\n",
       "      <td>0.00</td>\n",
       "      <td>0.00</td>\n",
       "      <td>1</td>\n",
       "      <td>0</td>\n",
       "    </tr>\n",
       "    <tr>\n",
       "      <th>6362617</th>\n",
       "      <td>743</td>\n",
       "      <td>CASH_OUT</td>\n",
       "      <td>6311409.28</td>\n",
       "      <td>C1162922333</td>\n",
       "      <td>6311409.28</td>\n",
       "      <td>0.00</td>\n",
       "      <td>C1365125890</td>\n",
       "      <td>68488.84</td>\n",
       "      <td>6379898.11</td>\n",
       "      <td>1</td>\n",
       "      <td>0</td>\n",
       "    </tr>\n",
       "    <tr>\n",
       "      <th>6362618</th>\n",
       "      <td>743</td>\n",
       "      <td>TRANSFER</td>\n",
       "      <td>850002.52</td>\n",
       "      <td>C1685995037</td>\n",
       "      <td>850002.52</td>\n",
       "      <td>0.00</td>\n",
       "      <td>C2080388513</td>\n",
       "      <td>0.00</td>\n",
       "      <td>0.00</td>\n",
       "      <td>1</td>\n",
       "      <td>0</td>\n",
       "    </tr>\n",
       "    <tr>\n",
       "      <th>6362619</th>\n",
       "      <td>743</td>\n",
       "      <td>CASH_OUT</td>\n",
       "      <td>850002.52</td>\n",
       "      <td>C1280323807</td>\n",
       "      <td>850002.52</td>\n",
       "      <td>0.00</td>\n",
       "      <td>C873221189</td>\n",
       "      <td>6510099.11</td>\n",
       "      <td>7360101.63</td>\n",
       "      <td>1</td>\n",
       "      <td>0</td>\n",
       "    </tr>\n",
       "  </tbody>\n",
       "</table>\n",
       "<p>6362620 rows × 11 columns</p>\n",
       "</div>"
      ],
      "text/plain": [
       "         step      type      amount     nameOrig  oldbalanceOrg  \\\n",
       "0           1   PAYMENT     9839.64  C1231006815      170136.00   \n",
       "1           1   PAYMENT     1864.28  C1666544295       21249.00   \n",
       "2           1  TRANSFER      181.00  C1305486145         181.00   \n",
       "3           1  CASH_OUT      181.00   C840083671         181.00   \n",
       "4           1   PAYMENT    11668.14  C2048537720       41554.00   \n",
       "...       ...       ...         ...          ...            ...   \n",
       "6362615   743  CASH_OUT   339682.13   C786484425      339682.13   \n",
       "6362616   743  TRANSFER  6311409.28  C1529008245     6311409.28   \n",
       "6362617   743  CASH_OUT  6311409.28  C1162922333     6311409.28   \n",
       "6362618   743  TRANSFER   850002.52  C1685995037      850002.52   \n",
       "6362619   743  CASH_OUT   850002.52  C1280323807      850002.52   \n",
       "\n",
       "         newbalanceOrig     nameDest  oldbalanceDest  newbalanceDest  isFraud  \\\n",
       "0             160296.36  M1979787155            0.00            0.00        0   \n",
       "1              19384.72  M2044282225            0.00            0.00        0   \n",
       "2                  0.00   C553264065            0.00            0.00        1   \n",
       "3                  0.00    C38997010        21182.00            0.00        1   \n",
       "4              29885.86  M1230701703            0.00            0.00        0   \n",
       "...                 ...          ...             ...             ...      ...   \n",
       "6362615            0.00   C776919290            0.00       339682.13        1   \n",
       "6362616            0.00  C1881841831            0.00            0.00        1   \n",
       "6362617            0.00  C1365125890        68488.84      6379898.11        1   \n",
       "6362618            0.00  C2080388513            0.00            0.00        1   \n",
       "6362619            0.00   C873221189      6510099.11      7360101.63        1   \n",
       "\n",
       "         isFlaggedFraud  \n",
       "0                     0  \n",
       "1                     0  \n",
       "2                     0  \n",
       "3                     0  \n",
       "4                     0  \n",
       "...                 ...  \n",
       "6362615               0  \n",
       "6362616               0  \n",
       "6362617               0  \n",
       "6362618               0  \n",
       "6362619               0  \n",
       "\n",
       "[6362620 rows x 11 columns]"
      ]
     },
     "execution_count": 3,
     "metadata": {},
     "output_type": "execute_result"
    }
   ],
   "source": [
    "df"
   ]
  },
  {
   "cell_type": "code",
   "execution_count": 4,
   "id": "7083c9fe",
   "metadata": {},
   "outputs": [
    {
     "data": {
      "text/plain": [
       "step              0\n",
       "type              0\n",
       "amount            0\n",
       "nameOrig          0\n",
       "oldbalanceOrg     0\n",
       "newbalanceOrig    0\n",
       "nameDest          0\n",
       "oldbalanceDest    0\n",
       "newbalanceDest    0\n",
       "isFraud           0\n",
       "isFlaggedFraud    0\n",
       "dtype: int64"
      ]
     },
     "execution_count": 4,
     "metadata": {},
     "output_type": "execute_result"
    }
   ],
   "source": [
    "df.isnull().sum()"
   ]
  },
  {
   "cell_type": "code",
   "execution_count": 5,
   "id": "2aab6d7c",
   "metadata": {},
   "outputs": [
    {
     "data": {
      "text/plain": [
       "0"
      ]
     },
     "execution_count": 5,
     "metadata": {},
     "output_type": "execute_result"
    }
   ],
   "source": [
    "df.duplicated().sum()"
   ]
  },
  {
   "cell_type": "markdown",
   "id": "d3e90d14",
   "metadata": {},
   "source": [
    "# 1. Describe your fraud detection model in elaboration.\n",
    "Main aim of fraud detection model is to flagg fraud customers making heavy transfers i.e in this case transfers > 200000 , and flag them as fraud customers. This customers can be potentially harmful to our banks as they try to exit money from the system in legitimate format while masking themself under umbrella of our banking system, exihibiting potential fraud. our target variable is designed in such a fashion which considers heavy transfer and fraudulent behaviour.Hence our model is useful to Flag of such fraud customers, hence taking various legal measures against them."
   ]
  },
  {
   "cell_type": "markdown",
   "id": "ffc5d2ed",
   "metadata": {},
   "source": [
    "# CREATING TARGET VARIABLE IN ORDER TO FLAG FRAUD CUSTOMERS MAKING TRANSACTION GREATER THAN 200000"
   ]
  },
  {
   "cell_type": "code",
   "execution_count": 6,
   "id": "ec2ac0db",
   "metadata": {},
   "outputs": [],
   "source": [
    "def set_flagged_fraud(row):\n",
    "    if row['amount'] > 200000 and row['isFraud'] == 1:\n",
    "        return 'Fraud'\n",
    "    else:\n",
    "        return 'Legal'\n",
    "\n",
    "# Apply the custom function to each row in the DataFrame and update the \"isFlaggedFraud\" column\n",
    "df['isFlaggedFraud'] = df.apply(set_flagged_fraud, axis=1)"
   ]
  },
  {
   "cell_type": "code",
   "execution_count": 7,
   "id": "0aeb387b",
   "metadata": {},
   "outputs": [
    {
     "data": {
      "text/html": [
       "<div>\n",
       "<style scoped>\n",
       "    .dataframe tbody tr th:only-of-type {\n",
       "        vertical-align: middle;\n",
       "    }\n",
       "\n",
       "    .dataframe tbody tr th {\n",
       "        vertical-align: top;\n",
       "    }\n",
       "\n",
       "    .dataframe thead th {\n",
       "        text-align: right;\n",
       "    }\n",
       "</style>\n",
       "<table border=\"1\" class=\"dataframe\">\n",
       "  <thead>\n",
       "    <tr style=\"text-align: right;\">\n",
       "      <th></th>\n",
       "      <th>step</th>\n",
       "      <th>type</th>\n",
       "      <th>amount</th>\n",
       "      <th>nameOrig</th>\n",
       "      <th>oldbalanceOrg</th>\n",
       "      <th>newbalanceOrig</th>\n",
       "      <th>nameDest</th>\n",
       "      <th>oldbalanceDest</th>\n",
       "      <th>newbalanceDest</th>\n",
       "      <th>isFraud</th>\n",
       "      <th>isFlaggedFraud</th>\n",
       "    </tr>\n",
       "  </thead>\n",
       "  <tbody>\n",
       "    <tr>\n",
       "      <th>0</th>\n",
       "      <td>1</td>\n",
       "      <td>PAYMENT</td>\n",
       "      <td>9839.64</td>\n",
       "      <td>C1231006815</td>\n",
       "      <td>170136.00</td>\n",
       "      <td>160296.36</td>\n",
       "      <td>M1979787155</td>\n",
       "      <td>0.00</td>\n",
       "      <td>0.00</td>\n",
       "      <td>0</td>\n",
       "      <td>Legal</td>\n",
       "    </tr>\n",
       "    <tr>\n",
       "      <th>1</th>\n",
       "      <td>1</td>\n",
       "      <td>PAYMENT</td>\n",
       "      <td>1864.28</td>\n",
       "      <td>C1666544295</td>\n",
       "      <td>21249.00</td>\n",
       "      <td>19384.72</td>\n",
       "      <td>M2044282225</td>\n",
       "      <td>0.00</td>\n",
       "      <td>0.00</td>\n",
       "      <td>0</td>\n",
       "      <td>Legal</td>\n",
       "    </tr>\n",
       "    <tr>\n",
       "      <th>2</th>\n",
       "      <td>1</td>\n",
       "      <td>TRANSFER</td>\n",
       "      <td>181.00</td>\n",
       "      <td>C1305486145</td>\n",
       "      <td>181.00</td>\n",
       "      <td>0.00</td>\n",
       "      <td>C553264065</td>\n",
       "      <td>0.00</td>\n",
       "      <td>0.00</td>\n",
       "      <td>1</td>\n",
       "      <td>Legal</td>\n",
       "    </tr>\n",
       "    <tr>\n",
       "      <th>3</th>\n",
       "      <td>1</td>\n",
       "      <td>CASH_OUT</td>\n",
       "      <td>181.00</td>\n",
       "      <td>C840083671</td>\n",
       "      <td>181.00</td>\n",
       "      <td>0.00</td>\n",
       "      <td>C38997010</td>\n",
       "      <td>21182.00</td>\n",
       "      <td>0.00</td>\n",
       "      <td>1</td>\n",
       "      <td>Legal</td>\n",
       "    </tr>\n",
       "    <tr>\n",
       "      <th>4</th>\n",
       "      <td>1</td>\n",
       "      <td>PAYMENT</td>\n",
       "      <td>11668.14</td>\n",
       "      <td>C2048537720</td>\n",
       "      <td>41554.00</td>\n",
       "      <td>29885.86</td>\n",
       "      <td>M1230701703</td>\n",
       "      <td>0.00</td>\n",
       "      <td>0.00</td>\n",
       "      <td>0</td>\n",
       "      <td>Legal</td>\n",
       "    </tr>\n",
       "    <tr>\n",
       "      <th>...</th>\n",
       "      <td>...</td>\n",
       "      <td>...</td>\n",
       "      <td>...</td>\n",
       "      <td>...</td>\n",
       "      <td>...</td>\n",
       "      <td>...</td>\n",
       "      <td>...</td>\n",
       "      <td>...</td>\n",
       "      <td>...</td>\n",
       "      <td>...</td>\n",
       "      <td>...</td>\n",
       "    </tr>\n",
       "    <tr>\n",
       "      <th>6362615</th>\n",
       "      <td>743</td>\n",
       "      <td>CASH_OUT</td>\n",
       "      <td>339682.13</td>\n",
       "      <td>C786484425</td>\n",
       "      <td>339682.13</td>\n",
       "      <td>0.00</td>\n",
       "      <td>C776919290</td>\n",
       "      <td>0.00</td>\n",
       "      <td>339682.13</td>\n",
       "      <td>1</td>\n",
       "      <td>Fraud</td>\n",
       "    </tr>\n",
       "    <tr>\n",
       "      <th>6362616</th>\n",
       "      <td>743</td>\n",
       "      <td>TRANSFER</td>\n",
       "      <td>6311409.28</td>\n",
       "      <td>C1529008245</td>\n",
       "      <td>6311409.28</td>\n",
       "      <td>0.00</td>\n",
       "      <td>C1881841831</td>\n",
       "      <td>0.00</td>\n",
       "      <td>0.00</td>\n",
       "      <td>1</td>\n",
       "      <td>Fraud</td>\n",
       "    </tr>\n",
       "    <tr>\n",
       "      <th>6362617</th>\n",
       "      <td>743</td>\n",
       "      <td>CASH_OUT</td>\n",
       "      <td>6311409.28</td>\n",
       "      <td>C1162922333</td>\n",
       "      <td>6311409.28</td>\n",
       "      <td>0.00</td>\n",
       "      <td>C1365125890</td>\n",
       "      <td>68488.84</td>\n",
       "      <td>6379898.11</td>\n",
       "      <td>1</td>\n",
       "      <td>Fraud</td>\n",
       "    </tr>\n",
       "    <tr>\n",
       "      <th>6362618</th>\n",
       "      <td>743</td>\n",
       "      <td>TRANSFER</td>\n",
       "      <td>850002.52</td>\n",
       "      <td>C1685995037</td>\n",
       "      <td>850002.52</td>\n",
       "      <td>0.00</td>\n",
       "      <td>C2080388513</td>\n",
       "      <td>0.00</td>\n",
       "      <td>0.00</td>\n",
       "      <td>1</td>\n",
       "      <td>Fraud</td>\n",
       "    </tr>\n",
       "    <tr>\n",
       "      <th>6362619</th>\n",
       "      <td>743</td>\n",
       "      <td>CASH_OUT</td>\n",
       "      <td>850002.52</td>\n",
       "      <td>C1280323807</td>\n",
       "      <td>850002.52</td>\n",
       "      <td>0.00</td>\n",
       "      <td>C873221189</td>\n",
       "      <td>6510099.11</td>\n",
       "      <td>7360101.63</td>\n",
       "      <td>1</td>\n",
       "      <td>Fraud</td>\n",
       "    </tr>\n",
       "  </tbody>\n",
       "</table>\n",
       "<p>6362620 rows × 11 columns</p>\n",
       "</div>"
      ],
      "text/plain": [
       "         step      type      amount     nameOrig  oldbalanceOrg  \\\n",
       "0           1   PAYMENT     9839.64  C1231006815      170136.00   \n",
       "1           1   PAYMENT     1864.28  C1666544295       21249.00   \n",
       "2           1  TRANSFER      181.00  C1305486145         181.00   \n",
       "3           1  CASH_OUT      181.00   C840083671         181.00   \n",
       "4           1   PAYMENT    11668.14  C2048537720       41554.00   \n",
       "...       ...       ...         ...          ...            ...   \n",
       "6362615   743  CASH_OUT   339682.13   C786484425      339682.13   \n",
       "6362616   743  TRANSFER  6311409.28  C1529008245     6311409.28   \n",
       "6362617   743  CASH_OUT  6311409.28  C1162922333     6311409.28   \n",
       "6362618   743  TRANSFER   850002.52  C1685995037      850002.52   \n",
       "6362619   743  CASH_OUT   850002.52  C1280323807      850002.52   \n",
       "\n",
       "         newbalanceOrig     nameDest  oldbalanceDest  newbalanceDest  isFraud  \\\n",
       "0             160296.36  M1979787155            0.00            0.00        0   \n",
       "1              19384.72  M2044282225            0.00            0.00        0   \n",
       "2                  0.00   C553264065            0.00            0.00        1   \n",
       "3                  0.00    C38997010        21182.00            0.00        1   \n",
       "4              29885.86  M1230701703            0.00            0.00        0   \n",
       "...                 ...          ...             ...             ...      ...   \n",
       "6362615            0.00   C776919290            0.00       339682.13        1   \n",
       "6362616            0.00  C1881841831            0.00            0.00        1   \n",
       "6362617            0.00  C1365125890        68488.84      6379898.11        1   \n",
       "6362618            0.00  C2080388513            0.00            0.00        1   \n",
       "6362619            0.00   C873221189      6510099.11      7360101.63        1   \n",
       "\n",
       "        isFlaggedFraud  \n",
       "0                Legal  \n",
       "1                Legal  \n",
       "2                Legal  \n",
       "3                Legal  \n",
       "4                Legal  \n",
       "...                ...  \n",
       "6362615          Fraud  \n",
       "6362616          Fraud  \n",
       "6362617          Fraud  \n",
       "6362618          Fraud  \n",
       "6362619          Fraud  \n",
       "\n",
       "[6362620 rows x 11 columns]"
      ]
     },
     "execution_count": 7,
     "metadata": {},
     "output_type": "execute_result"
    }
   ],
   "source": [
    "df"
   ]
  },
  {
   "cell_type": "code",
   "execution_count": 8,
   "id": "7f8f27d3",
   "metadata": {},
   "outputs": [
    {
     "data": {
      "text/plain": [
       "Legal    6357149\n",
       "Fraud       5471\n",
       "Name: isFlaggedFraud, dtype: int64"
      ]
     },
     "execution_count": 8,
     "metadata": {},
     "output_type": "execute_result"
    }
   ],
   "source": [
    "df['isFlaggedFraud'].value_counts()"
   ]
  },
  {
   "cell_type": "raw",
   "id": "8e23f426",
   "metadata": {},
   "source": [
    "GETTING RID OF isFraud as we manipulated our target variable accordingly "
   ]
  },
  {
   "cell_type": "code",
   "execution_count": 9,
   "id": "760c9350",
   "metadata": {},
   "outputs": [],
   "source": [
    "df.drop(['isFraud'], axis=1, inplace = True)"
   ]
  },
  {
   "cell_type": "raw",
   "id": "0bf1274b",
   "metadata": {},
   "source": [
    "Getting Rid of rows where amount transaction are less than 1000"
   ]
  },
  {
   "cell_type": "code",
   "execution_count": 10,
   "id": "0a61943d",
   "metadata": {},
   "outputs": [],
   "source": [
    "mask = df['amount'] < 1000\n",
    "# Drop rows where the mask is True (i.e., 'amount' < 1000)\n",
    "df.drop(df.index[mask], inplace=True)"
   ]
  },
  {
   "cell_type": "raw",
   "id": "28e1db8e",
   "metadata": {},
   "source": [
    "In order to transform our data by applying log it is essential that attributes should'nt have 0 values as balance in any transaction hence minimum value should be atleast  10(any random value)"
   ]
  },
  {
   "cell_type": "code",
   "execution_count": 11,
   "id": "60dd567b",
   "metadata": {},
   "outputs": [],
   "source": [
    "changes = ['oldbalanceOrg','newbalanceOrig', 'oldbalanceDest', 'newbalanceDest']\n",
    "\n",
    "def make_required_changes(row):\n",
    "    for item in changes:\n",
    "        if row[item] == 0.0:\n",
    "            row[item] = 10.0\n",
    "    return row\n",
    "\n",
    "df = df.apply(make_required_changes, axis=1)"
   ]
  },
  {
   "cell_type": "markdown",
   "id": "c02cf9b9",
   "metadata": {},
   "source": [
    "# 2.Data cleaning including missing values, outliers and multi-collinearity\n",
    "Making our data normally distributed by reducing skewness and kurtosis and making them be in their acceptable range +-0.8 for skewness and +-3 kurtosis. There are zero null values and duplicate value in our data. In order to apply log transformations we need to manipulate our data point replacing minimum 0 values of transaction to atleast 10 or greater.multi collinearity can be detected by using VIF (variance influential factor) and co-relation heatmap. "
   ]
  },
  {
   "cell_type": "markdown",
   "id": "92522adf",
   "metadata": {},
   "source": [
    "# EDA OF OUR DATA"
   ]
  },
  {
   "cell_type": "code",
   "execution_count": 12,
   "id": "a686e934",
   "metadata": {},
   "outputs": [
    {
     "data": {
      "image/png": "[encoded data removed]",
      "text/plain": [
       "<Figure size 432x288 with 1 Axes>"
      ]
     },
     "metadata": {
      "needs_background": "light"
     },
     "output_type": "display_data"
    },
    {
     "data": {
      "image/png": "[encoded data removed]",
      "text/plain": [
       "<Figure size 432x288 with 1 Axes>"
      ]
     },
     "metadata": {
      "needs_background": "light"
     },
     "output_type": "display_data"
    },
    {
     "data": {
      "image/png": "[encoded data removed]",
      "text/plain": [
       "<Figure size 432x288 with 1 Axes>"
      ]
     },
     "metadata": {
      "needs_background": "light"
     },
     "output_type": "display_data"
    },
    {
     "data": {
      "image/png": "[encoded data removed]",
      "text/plain": [
       "<Figure size 432x288 with 1 Axes>"
      ]
     },
     "metadata": {
      "needs_background": "light"
     },
     "output_type": "display_data"
    },
    {
     "data": {
      "image/png": "[encoded data removed]",
      "text/plain": [
       "<Figure size 432x288 with 1 Axes>"
      ]
     },
     "metadata": {
      "needs_background": "light"
     },
     "output_type": "display_data"
    }
   ],
   "source": [
    "# Plot histogram for a all column\n",
    "plot=['amount', 'oldbalanceOrg', 'newbalanceOrig', 'oldbalanceDest', 'newbalanceDest']\n",
    "for item in plot:\n",
    "    plt.hist(df[item], color='skyblue', edgecolor='black')\n",
    "    plt.xlabel('Values')\n",
    "    plt.ylabel('Frequency')\n",
    "    plt.title('Histogram of'+item)\n",
    "    plt.show()"
   ]
  },
  {
   "cell_type": "code",
   "execution_count": 14,
   "id": "de59f0a7",
   "metadata": {},
   "outputs": [
    {
     "data": {
      "image/png": "[encoded data removed]",
      "text/plain": [
       "<Figure size 1440x2880 with 6 Axes>"
      ]
     },
     "metadata": {
      "needs_background": "light"
     },
     "output_type": "display_data"
    }
   ],
   "source": [
    "df.plot(kind='box', subplots=True, layout=(2,3), sharex=False, sharey=False,figsize=(20, 40))\n",
    "plt.show()"
   ]
  },
  {
   "cell_type": "markdown",
   "id": "b19b3ca7",
   "metadata": {},
   "source": [
    "# APPLYING LOG TRANSFORMATION TO INCREASE DATA QUALITY"
   ]
  },
  {
   "cell_type": "code",
   "execution_count": 15,
   "id": "6469fb9d",
   "metadata": {},
   "outputs": [],
   "source": [
    "changes = ['amount', 'oldbalanceOrg', 'newbalanceOrig', 'oldbalanceDest', 'newbalanceDest']\n",
    "\n",
    "# Assuming you have a DataFrame called 'df', you can apply the logarithm like this:\n",
    "df[changes] = np.log(df[changes])\n"
   ]
  },
  {
   "cell_type": "code",
   "execution_count": 16,
   "id": "5ed21801",
   "metadata": {},
   "outputs": [
    {
     "data": {
      "image/png": "[encoded data removed]",
      "text/plain": [
       "<Figure size 1440x2880 with 6 Axes>"
      ]
     },
     "metadata": {
      "needs_background": "light"
     },
     "output_type": "display_data"
    }
   ],
   "source": [
    "df.plot(kind='box', subplots=True, layout=(2,3), sharex=False, sharey=False,figsize=(20, 40))\n",
    "plt.show()"
   ]
  },
  {
   "cell_type": "code",
   "execution_count": 17,
   "id": "9e181917",
   "metadata": {},
   "outputs": [
    {
     "data": {
      "text/html": [
       "<div>\n",
       "<style scoped>\n",
       "    .dataframe tbody tr th:only-of-type {\n",
       "        vertical-align: middle;\n",
       "    }\n",
       "\n",
       "    .dataframe tbody tr th {\n",
       "        vertical-align: top;\n",
       "    }\n",
       "\n",
       "    .dataframe thead th {\n",
       "        text-align: right;\n",
       "    }\n",
       "</style>\n",
       "<table border=\"1\" class=\"dataframe\">\n",
       "  <thead>\n",
       "    <tr style=\"text-align: right;\">\n",
       "      <th></th>\n",
       "      <th>step</th>\n",
       "      <th>type</th>\n",
       "      <th>amount</th>\n",
       "      <th>nameOrig</th>\n",
       "      <th>oldbalanceOrg</th>\n",
       "      <th>newbalanceOrig</th>\n",
       "      <th>nameDest</th>\n",
       "      <th>oldbalanceDest</th>\n",
       "      <th>newbalanceDest</th>\n",
       "      <th>isFlaggedFraud</th>\n",
       "    </tr>\n",
       "  </thead>\n",
       "  <tbody>\n",
       "    <tr>\n",
       "      <th>0</th>\n",
       "      <td>1</td>\n",
       "      <td>PAYMENT</td>\n",
       "      <td>9.194174</td>\n",
       "      <td>C1231006815</td>\n",
       "      <td>12.044353</td>\n",
       "      <td>11.984780</td>\n",
       "      <td>M1979787155</td>\n",
       "      <td>2.302585</td>\n",
       "      <td>2.302585</td>\n",
       "      <td>Legal</td>\n",
       "    </tr>\n",
       "    <tr>\n",
       "      <th>1</th>\n",
       "      <td>1</td>\n",
       "      <td>PAYMENT</td>\n",
       "      <td>7.530630</td>\n",
       "      <td>C1666544295</td>\n",
       "      <td>9.964065</td>\n",
       "      <td>9.872240</td>\n",
       "      <td>M2044282225</td>\n",
       "      <td>2.302585</td>\n",
       "      <td>2.302585</td>\n",
       "      <td>Legal</td>\n",
       "    </tr>\n",
       "    <tr>\n",
       "      <th>4</th>\n",
       "      <td>1</td>\n",
       "      <td>PAYMENT</td>\n",
       "      <td>9.364617</td>\n",
       "      <td>C2048537720</td>\n",
       "      <td>10.634749</td>\n",
       "      <td>10.305141</td>\n",
       "      <td>M1230701703</td>\n",
       "      <td>2.302585</td>\n",
       "      <td>2.302585</td>\n",
       "      <td>Legal</td>\n",
       "    </tr>\n",
       "    <tr>\n",
       "      <th>5</th>\n",
       "      <td>1</td>\n",
       "      <td>PAYMENT</td>\n",
       "      <td>8.964147</td>\n",
       "      <td>C90045638</td>\n",
       "      <td>10.894143</td>\n",
       "      <td>10.737316</td>\n",
       "      <td>M573487274</td>\n",
       "      <td>2.302585</td>\n",
       "      <td>2.302585</td>\n",
       "      <td>Legal</td>\n",
       "    </tr>\n",
       "    <tr>\n",
       "      <th>6</th>\n",
       "      <td>1</td>\n",
       "      <td>PAYMENT</td>\n",
       "      <td>8.868944</td>\n",
       "      <td>C154988899</td>\n",
       "      <td>12.118306</td>\n",
       "      <td>12.078735</td>\n",
       "      <td>M408069119</td>\n",
       "      <td>2.302585</td>\n",
       "      <td>2.302585</td>\n",
       "      <td>Legal</td>\n",
       "    </tr>\n",
       "    <tr>\n",
       "      <th>...</th>\n",
       "      <td>...</td>\n",
       "      <td>...</td>\n",
       "      <td>...</td>\n",
       "      <td>...</td>\n",
       "      <td>...</td>\n",
       "      <td>...</td>\n",
       "      <td>...</td>\n",
       "      <td>...</td>\n",
       "      <td>...</td>\n",
       "      <td>...</td>\n",
       "    </tr>\n",
       "    <tr>\n",
       "      <th>6362615</th>\n",
       "      <td>743</td>\n",
       "      <td>CASH_OUT</td>\n",
       "      <td>12.735766</td>\n",
       "      <td>C786484425</td>\n",
       "      <td>12.735766</td>\n",
       "      <td>2.302585</td>\n",
       "      <td>C776919290</td>\n",
       "      <td>2.302585</td>\n",
       "      <td>12.735766</td>\n",
       "      <td>Fraud</td>\n",
       "    </tr>\n",
       "    <tr>\n",
       "      <th>6362616</th>\n",
       "      <td>743</td>\n",
       "      <td>TRANSFER</td>\n",
       "      <td>15.657870</td>\n",
       "      <td>C1529008245</td>\n",
       "      <td>15.657870</td>\n",
       "      <td>2.302585</td>\n",
       "      <td>C1881841831</td>\n",
       "      <td>2.302585</td>\n",
       "      <td>2.302585</td>\n",
       "      <td>Fraud</td>\n",
       "    </tr>\n",
       "    <tr>\n",
       "      <th>6362617</th>\n",
       "      <td>743</td>\n",
       "      <td>CASH_OUT</td>\n",
       "      <td>15.657870</td>\n",
       "      <td>C1162922333</td>\n",
       "      <td>15.657870</td>\n",
       "      <td>2.302585</td>\n",
       "      <td>C1365125890</td>\n",
       "      <td>11.134426</td>\n",
       "      <td>15.668663</td>\n",
       "      <td>Fraud</td>\n",
       "    </tr>\n",
       "    <tr>\n",
       "      <th>6362618</th>\n",
       "      <td>743</td>\n",
       "      <td>TRANSFER</td>\n",
       "      <td>13.652995</td>\n",
       "      <td>C1685995037</td>\n",
       "      <td>13.652995</td>\n",
       "      <td>2.302585</td>\n",
       "      <td>C2080388513</td>\n",
       "      <td>2.302585</td>\n",
       "      <td>2.302585</td>\n",
       "      <td>Fraud</td>\n",
       "    </tr>\n",
       "    <tr>\n",
       "      <th>6362619</th>\n",
       "      <td>743</td>\n",
       "      <td>CASH_OUT</td>\n",
       "      <td>13.652995</td>\n",
       "      <td>C1280323807</td>\n",
       "      <td>13.652995</td>\n",
       "      <td>2.302585</td>\n",
       "      <td>C873221189</td>\n",
       "      <td>15.688865</td>\n",
       "      <td>15.811584</td>\n",
       "      <td>Fraud</td>\n",
       "    </tr>\n",
       "  </tbody>\n",
       "</table>\n",
       "<p>6219978 rows × 10 columns</p>\n",
       "</div>"
      ],
      "text/plain": [
       "         step      type     amount     nameOrig  oldbalanceOrg  \\\n",
       "0           1   PAYMENT   9.194174  C1231006815      12.044353   \n",
       "1           1   PAYMENT   7.530630  C1666544295       9.964065   \n",
       "4           1   PAYMENT   9.364617  C2048537720      10.634749   \n",
       "5           1   PAYMENT   8.964147    C90045638      10.894143   \n",
       "6           1   PAYMENT   8.868944   C154988899      12.118306   \n",
       "...       ...       ...        ...          ...            ...   \n",
       "6362615   743  CASH_OUT  12.735766   C786484425      12.735766   \n",
       "6362616   743  TRANSFER  15.657870  C1529008245      15.657870   \n",
       "6362617   743  CASH_OUT  15.657870  C1162922333      15.657870   \n",
       "6362618   743  TRANSFER  13.652995  C1685995037      13.652995   \n",
       "6362619   743  CASH_OUT  13.652995  C1280323807      13.652995   \n",
       "\n",
       "         newbalanceOrig     nameDest  oldbalanceDest  newbalanceDest  \\\n",
       "0             11.984780  M1979787155        2.302585        2.302585   \n",
       "1              9.872240  M2044282225        2.302585        2.302585   \n",
       "4             10.305141  M1230701703        2.302585        2.302585   \n",
       "5             10.737316   M573487274        2.302585        2.302585   \n",
       "6             12.078735   M408069119        2.302585        2.302585   \n",
       "...                 ...          ...             ...             ...   \n",
       "6362615        2.302585   C776919290        2.302585       12.735766   \n",
       "6362616        2.302585  C1881841831        2.302585        2.302585   \n",
       "6362617        2.302585  C1365125890       11.134426       15.668663   \n",
       "6362618        2.302585  C2080388513        2.302585        2.302585   \n",
       "6362619        2.302585   C873221189       15.688865       15.811584   \n",
       "\n",
       "        isFlaggedFraud  \n",
       "0                Legal  \n",
       "1                Legal  \n",
       "4                Legal  \n",
       "5                Legal  \n",
       "6                Legal  \n",
       "...                ...  \n",
       "6362615          Fraud  \n",
       "6362616          Fraud  \n",
       "6362617          Fraud  \n",
       "6362618          Fraud  \n",
       "6362619          Fraud  \n",
       "\n",
       "[6219978 rows x 10 columns]"
      ]
     },
     "execution_count": 17,
     "metadata": {},
     "output_type": "execute_result"
    }
   ],
   "source": [
    " df"
   ]
  },
  {
   "cell_type": "code",
   "execution_count": 18,
   "id": "70c4a98a",
   "metadata": {},
   "outputs": [
    {
     "data": {
      "image/png": "[encoded data removed]",
      "text/plain": [
       "<Figure size 432x288 with 1 Axes>"
      ]
     },
     "metadata": {
      "needs_background": "light"
     },
     "output_type": "display_data"
    },
    {
     "data": {
      "image/png": "[encoded data removed]",
      "text/plain": [
       "<Figure size 432x288 with 1 Axes>"
      ]
     },
     "metadata": {
      "needs_background": "light"
     },
     "output_type": "display_data"
    },
    {
     "data": {
      "image/png": "[encoded data removed]",
      "text/plain": [
       "<Figure size 432x288 with 1 Axes>"
      ]
     },
     "metadata": {
      "needs_background": "light"
     },
     "output_type": "display_data"
    },
    {
     "data": {
      "image/png": "[encoded data removed]",
      "text/plain": [
       "<Figure size 432x288 with 1 Axes>"
      ]
     },
     "metadata": {
      "needs_background": "light"
     },
     "output_type": "display_data"
    },
    {
     "data": {
      "image/png": "[encoded data removed]",
      "text/plain": [
       "<Figure size 432x288 with 1 Axes>"
      ]
     },
     "metadata": {
      "needs_background": "light"
     },
     "output_type": "display_data"
    }
   ],
   "source": [
    "# Plot histogram for a all column\n",
    "plot=['amount', 'oldbalanceOrg', 'newbalanceOrig', 'oldbalanceDest', 'newbalanceDest']\n",
    "for item in plot:\n",
    "    plt.hist(df[item], color='skyblue', edgecolor='black')\n",
    "    plt.xlabel('Values')\n",
    "    plt.ylabel('Frequency')\n",
    "    plt.title('Histogram of'+item)\n",
    "    plt.show()"
   ]
  },
  {
   "cell_type": "raw",
   "id": "a2602c90",
   "metadata": {},
   "source": [
    "CO-RELATION PLOT"
   ]
  },
  {
   "cell_type": "code",
   "execution_count": 19,
   "id": "aa93432e",
   "metadata": {
    "scrolled": true
   },
   "outputs": [
    {
     "data": {
      "image/png": "[encoded data removed]",
      "text/plain": [
       "<Figure size 720x576 with 2 Axes>"
      ]
     },
     "metadata": {
      "needs_background": "light"
     },
     "output_type": "display_data"
    }
   ],
   "source": [
    "plt.figure(figsize=(10, 8))  # Adjust the figure size as needed\n",
    "sns.heatmap(df.corr(), annot=True, cmap='coolwarm', fmt='.2f', linewidths=0.5)\n",
    "plt.title('Correlation Heatmap')\n",
    "plt.show()"
   ]
  },
  {
   "cell_type": "raw",
   "id": "f13a9130",
   "metadata": {},
   "source": [
    "CALCULATING VARIANCE INFLUENTIAL FACTOR (VIF) MULTI COLLINEARITY TEST"
   ]
  },
  {
   "cell_type": "code",
   "execution_count": 20,
   "id": "f1657743",
   "metadata": {},
   "outputs": [
    {
     "name": "stdout",
     "output_type": "stream",
     "text": [
      "Multicollinear features: 0             const\n",
      "5    oldbalanceDest\n",
      "6    newbalanceDest\n",
      "Name: Feature, dtype: object\n"
     ]
    }
   ],
   "source": [
    "# Step 1: Prepare the data for the VIF test by adding a constant column\n",
    "y = df['isFlaggedFraud']\n",
    "numeric_df = df.select_dtypes(include=[np.number])\n",
    "\n",
    "# Step 2: Handle missing or invalid values (e.g., fill missing values with column means)\n",
    "numeric_df = numeric_df.fillna(numeric_df.mean())\n",
    "\n",
    "X = add_constant(numeric_df)\n",
    "\n",
    "vif_data = pd.DataFrame()\n",
    "vif_data[\"Feature\"] = X.columns\n",
    "vif_data[\"VIF\"] = [variance_inflation_factor(X.values, i) for i in range(X.shape[1])]\n",
    "\n",
    "threshold = 5\n",
    "multicollinear_features = vif_data[vif_data['VIF'] > threshold]['Feature']\n",
    "print(\"Multicollinear features:\", multicollinear_features)\n"
   ]
  },
  {
   "cell_type": "raw",
   "id": "eb17b414",
   "metadata": {},
   "source": [
    "AS OldbalanceDest and newbalanceDest are highly co-related with amount, also their VIF is greater than 5.Hence dropping newbalanceDest"
   ]
  },
  {
   "cell_type": "code",
   "execution_count": 21,
   "id": "865906bb",
   "metadata": {},
   "outputs": [],
   "source": [
    "df.drop('newbalanceDest',axis=1, inplace=True)"
   ]
  },
  {
   "cell_type": "markdown",
   "id": "12a5e71b",
   "metadata": {},
   "source": [
    "# OUTLIER TREATMENT"
   ]
  },
  {
   "cell_type": "code",
   "execution_count": 52,
   "id": "6d35f522",
   "metadata": {},
   "outputs": [],
   "source": [
    "z1=stats.zscore(df['amount'])\n",
    "z2=stats.zscore(df['oldbalanceOrg'])\n",
    "z3=stats.zscore(df['newbalanceOrig'])\n",
    "z4=stats.zscore(df['oldbalanceDest'])"
   ]
  },
  {
   "cell_type": "code",
   "execution_count": 53,
   "id": "964e557b",
   "metadata": {},
   "outputs": [],
   "source": [
    "#insert the calculated z-Score into the dataframe\n",
    "df1=df.copy()\n",
    "df1.insert(0,\"Z-Score_amount\", list(z1), True)\n",
    "df1.insert(0,\"Z-Score_oldbalanceOrg\", list(z2), True) \n",
    "df1.insert(0,\"Z-Score_newbalanceOrg\", list(z3), True) \n",
    "df1.insert(0,\"Z-Score_oldbalanceDest\", list(z4), True) "
   ]
  },
  {
   "cell_type": "code",
   "execution_count": 56,
   "id": "69aebf85",
   "metadata": {},
   "outputs": [],
   "source": [
    "df1.loc[df1['Z-Score_amount']>1.96,'amount']=np.nan\n",
    "df1.loc[df1['Z-Score_amount']<-1.96,'amount']=np.nan\n",
    "\n",
    "df1.loc[df1['Z-Score_oldbalanceOrg']>1.96,'oldbalanceOrg']=np.nan\n",
    "df1.loc[df1['Z-Score_oldbalanceOrg']<-1.96,'oldbalanceOrg']=np.nan\n",
    "\n",
    "df1.loc[df1['Z-Score_newbalanceOrg']>1.96,'newbalanceOrig']=np.nan\n",
    "df1.loc[df1['Z-Score_newbalanceOrg']<-1.96,'newbalanceOrig']=np.nan\n",
    "\n",
    "df1.loc[df1['Z-Score_oldbalanceDest']>1.96,'oldbalanceDest']=np.nan\n",
    "df1.loc[df1['Z-Score_oldbalanceDest']<-1.96,'oldbalanceDest']=np.nan"
   ]
  },
  {
   "cell_type": "code",
   "execution_count": 57,
   "id": "6478ed6b",
   "metadata": {},
   "outputs": [
    {
     "data": {
      "text/html": [
       "<div>\n",
       "<style scoped>\n",
       "    .dataframe tbody tr th:only-of-type {\n",
       "        vertical-align: middle;\n",
       "    }\n",
       "\n",
       "    .dataframe tbody tr th {\n",
       "        vertical-align: top;\n",
       "    }\n",
       "\n",
       "    .dataframe thead th {\n",
       "        text-align: right;\n",
       "    }\n",
       "</style>\n",
       "<table border=\"1\" class=\"dataframe\">\n",
       "  <thead>\n",
       "    <tr style=\"text-align: right;\">\n",
       "      <th></th>\n",
       "      <th>Z-Score_oldbalanceDest</th>\n",
       "      <th>Z-Score_newbalanceOrg</th>\n",
       "      <th>Z-Score_oldbalanceOrg</th>\n",
       "      <th>Z-Score_amount</th>\n",
       "      <th>amount</th>\n",
       "      <th>oldbalanceOrg</th>\n",
       "      <th>newbalanceOrig</th>\n",
       "      <th>oldbalanceDest</th>\n",
       "      <th>type_encoded</th>\n",
       "      <th>isFlaggedFraud_encoded</th>\n",
       "    </tr>\n",
       "  </thead>\n",
       "  <tbody>\n",
       "    <tr>\n",
       "      <th>0</th>\n",
       "      <td>-1.160061</td>\n",
       "      <td>1.016116</td>\n",
       "      <td>0.820010</td>\n",
       "      <td>-1.055443</td>\n",
       "      <td>9.194174</td>\n",
       "      <td>12.044353</td>\n",
       "      <td>11.984780</td>\n",
       "      <td>2.302585</td>\n",
       "      <td>3</td>\n",
       "      <td>1</td>\n",
       "    </tr>\n",
       "    <tr>\n",
       "      <th>1</th>\n",
       "      <td>-1.160061</td>\n",
       "      <td>0.613544</td>\n",
       "      <td>0.377830</td>\n",
       "      <td>-2.053358</td>\n",
       "      <td>NaN</td>\n",
       "      <td>9.964065</td>\n",
       "      <td>9.872240</td>\n",
       "      <td>2.302585</td>\n",
       "      <td>3</td>\n",
       "      <td>1</td>\n",
       "    </tr>\n",
       "    <tr>\n",
       "      <th>4</th>\n",
       "      <td>-1.160061</td>\n",
       "      <td>0.696039</td>\n",
       "      <td>0.520389</td>\n",
       "      <td>-0.953199</td>\n",
       "      <td>9.364617</td>\n",
       "      <td>10.634749</td>\n",
       "      <td>10.305141</td>\n",
       "      <td>2.302585</td>\n",
       "      <td>3</td>\n",
       "      <td>1</td>\n",
       "    </tr>\n",
       "    <tr>\n",
       "      <th>5</th>\n",
       "      <td>-1.160061</td>\n",
       "      <td>0.778396</td>\n",
       "      <td>0.575525</td>\n",
       "      <td>-1.193431</td>\n",
       "      <td>8.964147</td>\n",
       "      <td>10.894143</td>\n",
       "      <td>10.737316</td>\n",
       "      <td>2.302585</td>\n",
       "      <td>3</td>\n",
       "      <td>1</td>\n",
       "    </tr>\n",
       "    <tr>\n",
       "      <th>6</th>\n",
       "      <td>-1.160061</td>\n",
       "      <td>1.034021</td>\n",
       "      <td>0.835729</td>\n",
       "      <td>-1.250540</td>\n",
       "      <td>8.868944</td>\n",
       "      <td>12.118306</td>\n",
       "      <td>12.078735</td>\n",
       "      <td>2.302585</td>\n",
       "      <td>3</td>\n",
       "      <td>1</td>\n",
       "    </tr>\n",
       "    <tr>\n",
       "      <th>...</th>\n",
       "      <td>...</td>\n",
       "      <td>...</td>\n",
       "      <td>...</td>\n",
       "      <td>...</td>\n",
       "      <td>...</td>\n",
       "      <td>...</td>\n",
       "      <td>...</td>\n",
       "      <td>...</td>\n",
       "      <td>...</td>\n",
       "      <td>...</td>\n",
       "    </tr>\n",
       "    <tr>\n",
       "      <th>6362615</th>\n",
       "      <td>-1.160061</td>\n",
       "      <td>-0.828954</td>\n",
       "      <td>0.966974</td>\n",
       "      <td>1.069061</td>\n",
       "      <td>12.735766</td>\n",
       "      <td>12.735766</td>\n",
       "      <td>2.302585</td>\n",
       "      <td>2.302585</td>\n",
       "      <td>1</td>\n",
       "      <td>0</td>\n",
       "    </tr>\n",
       "    <tr>\n",
       "      <th>6362616</th>\n",
       "      <td>-1.160061</td>\n",
       "      <td>-0.828954</td>\n",
       "      <td>1.588088</td>\n",
       "      <td>2.821951</td>\n",
       "      <td>NaN</td>\n",
       "      <td>15.657870</td>\n",
       "      <td>2.302585</td>\n",
       "      <td>2.302585</td>\n",
       "      <td>4</td>\n",
       "      <td>0</td>\n",
       "    </tr>\n",
       "    <tr>\n",
       "      <th>6362617</th>\n",
       "      <td>0.412449</td>\n",
       "      <td>-0.828954</td>\n",
       "      <td>1.588088</td>\n",
       "      <td>2.821951</td>\n",
       "      <td>NaN</td>\n",
       "      <td>15.657870</td>\n",
       "      <td>2.302585</td>\n",
       "      <td>11.134426</td>\n",
       "      <td>1</td>\n",
       "      <td>0</td>\n",
       "    </tr>\n",
       "    <tr>\n",
       "      <th>6362618</th>\n",
       "      <td>-1.160061</td>\n",
       "      <td>-0.828954</td>\n",
       "      <td>1.161938</td>\n",
       "      <td>1.619281</td>\n",
       "      <td>13.652995</td>\n",
       "      <td>13.652995</td>\n",
       "      <td>2.302585</td>\n",
       "      <td>2.302585</td>\n",
       "      <td>4</td>\n",
       "      <td>0</td>\n",
       "    </tr>\n",
       "    <tr>\n",
       "      <th>6362619</th>\n",
       "      <td>1.223367</td>\n",
       "      <td>-0.828954</td>\n",
       "      <td>1.161938</td>\n",
       "      <td>1.619281</td>\n",
       "      <td>13.652995</td>\n",
       "      <td>13.652995</td>\n",
       "      <td>2.302585</td>\n",
       "      <td>15.688865</td>\n",
       "      <td>1</td>\n",
       "      <td>0</td>\n",
       "    </tr>\n",
       "  </tbody>\n",
       "</table>\n",
       "<p>6219978 rows × 10 columns</p>\n",
       "</div>"
      ],
      "text/plain": [
       "         Z-Score_oldbalanceDest  Z-Score_newbalanceOrg  Z-Score_oldbalanceOrg  \\\n",
       "0                     -1.160061               1.016116               0.820010   \n",
       "1                     -1.160061               0.613544               0.377830   \n",
       "4                     -1.160061               0.696039               0.520389   \n",
       "5                     -1.160061               0.778396               0.575525   \n",
       "6                     -1.160061               1.034021               0.835729   \n",
       "...                         ...                    ...                    ...   \n",
       "6362615               -1.160061              -0.828954               0.966974   \n",
       "6362616               -1.160061              -0.828954               1.588088   \n",
       "6362617                0.412449              -0.828954               1.588088   \n",
       "6362618               -1.160061              -0.828954               1.161938   \n",
       "6362619                1.223367              -0.828954               1.161938   \n",
       "\n",
       "         Z-Score_amount     amount  oldbalanceOrg  newbalanceOrig  \\\n",
       "0             -1.055443   9.194174      12.044353       11.984780   \n",
       "1             -2.053358        NaN       9.964065        9.872240   \n",
       "4             -0.953199   9.364617      10.634749       10.305141   \n",
       "5             -1.193431   8.964147      10.894143       10.737316   \n",
       "6             -1.250540   8.868944      12.118306       12.078735   \n",
       "...                 ...        ...            ...             ...   \n",
       "6362615        1.069061  12.735766      12.735766        2.302585   \n",
       "6362616        2.821951        NaN      15.657870        2.302585   \n",
       "6362617        2.821951        NaN      15.657870        2.302585   \n",
       "6362618        1.619281  13.652995      13.652995        2.302585   \n",
       "6362619        1.619281  13.652995      13.652995        2.302585   \n",
       "\n",
       "         oldbalanceDest  type_encoded  isFlaggedFraud_encoded  \n",
       "0              2.302585             3                       1  \n",
       "1              2.302585             3                       1  \n",
       "4              2.302585             3                       1  \n",
       "5              2.302585             3                       1  \n",
       "6              2.302585             3                       1  \n",
       "...                 ...           ...                     ...  \n",
       "6362615        2.302585             1                       0  \n",
       "6362616        2.302585             4                       0  \n",
       "6362617       11.134426             1                       0  \n",
       "6362618        2.302585             4                       0  \n",
       "6362619       15.688865             1                       0  \n",
       "\n",
       "[6219978 rows x 10 columns]"
      ]
     },
     "execution_count": 57,
     "metadata": {},
     "output_type": "execute_result"
    }
   ],
   "source": [
    "df1"
   ]
  },
  {
   "cell_type": "code",
   "execution_count": 59,
   "id": "54ade8cc",
   "metadata": {},
   "outputs": [],
   "source": [
    "# imputing the median values in place of the NaN values\n",
    "df1['amount']=df1['amount'].fillna(df1['amount'].median())\n",
    "df1['oldbalanceOrg']=df1['oldbalanceOrg'].fillna(df1['oldbalanceOrg'].median())\n",
    "df1['oldbalanceDest']=df1['oldbalanceDest'].fillna(df1['oldbalanceDest'].median())\n",
    "df1['newbalanceOrig']=df1['newbalanceOrig'].fillna(df1['newbalanceOrig'].median())"
   ]
  },
  {
   "cell_type": "code",
   "execution_count": 61,
   "id": "aee68905",
   "metadata": {},
   "outputs": [],
   "source": [
    "df1.drop(['Z-Score_oldbalanceDest','Z-Score_newbalanceOrg','Z-Score_oldbalanceOrg','Z-Score_amount'],axis=1,inplace=True)"
   ]
  },
  {
   "cell_type": "markdown",
   "id": "1b3cf1fb",
   "metadata": {},
   "source": [
    "# DESCRIPTIVE STATISTICS"
   ]
  },
  {
   "cell_type": "raw",
   "id": "dfa4d8f9",
   "metadata": {},
   "source": [
    "a)TYPE OF TRANSACTION TOTAL AMOUNT RELATED"
   ]
  },
  {
   "cell_type": "code",
   "execution_count": 22,
   "id": "f5bdc48e",
   "metadata": {},
   "outputs": [
    {
     "data": {
      "image/png": "[encoded data removed]",
      "text/plain": [
       "<Figure size 720x432 with 1 Axes>"
      ]
     },
     "metadata": {
      "needs_background": "light"
     },
     "output_type": "display_data"
    }
   ],
   "source": [
    "# Group the data by 'Type' and calculate the total amount for each type of transaction\n",
    "transaction_totals = df.groupby('type')['amount'].sum()\n",
    "\n",
    "# Plot the horizontal bar chart\n",
    "plt.figure(figsize=(10, 6)) \n",
    "transaction_totals.plot(kind='barh', color='skyblue')\n",
    "plt.xlabel('Total Amount')\n",
    "plt.ylabel('Type of Transaction')\n",
    "plt.title('Total Amount Related to Each Type of Transaction')\n",
    "plt.grid(axis='x', linestyle='--', alpha=0.7)\n",
    "plt.tight_layout()\n",
    "plt.show()"
   ]
  },
  {
   "cell_type": "raw",
   "id": "544f1199",
   "metadata": {},
   "source": [
    "MAXIMUM AMOUNT TRANSACTION HAVE OCCURED VIA CASH_OUT PROCESS AND MINIMUM VIA DEBT"
   ]
  },
  {
   "cell_type": "raw",
   "id": "3c7f35c0",
   "metadata": {},
   "source": [
    "b)Total fraud and Legal transaction noticed "
   ]
  },
  {
   "cell_type": "code",
   "execution_count": 23,
   "id": "5b7c0143",
   "metadata": {},
   "outputs": [
    {
     "data": {
      "image/png": "[encoded data removed]",
      "text/plain": [
       "<Figure size 576x432 with 1 Axes>"
      ]
     },
     "metadata": {
      "needs_background": "light"
     },
     "output_type": "display_data"
    }
   ],
   "source": [
    "transaction_counts = df['isFlaggedFraud'].value_counts()\n",
    "# Get the counts of fraud and legal transactions\n",
    "total_fraud = transaction_counts[1] \n",
    "total_legal = transaction_counts[0] /100\n",
    "# Plot the bar graph\n",
    "plt.figure(figsize=(8, 6))  \n",
    "plt.bar(['Fraud', 'Legal'], [total_fraud, total_legal], color=['red', 'green'])\n",
    "plt.xlabel('Transaction Status')\n",
    "plt.ylabel('Count')\n",
    "plt.title('Total Number of Fraud and Legal Transactions')\n",
    "plt.show()"
   ]
  },
  {
   "cell_type": "raw",
   "id": "8bb5eaae",
   "metadata": {},
   "source": [
    "OF TOTAL OF NEARLY 60 LAKHS TRANSACTIONS ONLY FEW THOUSAND ARE FLAGGED AS FRAUD"
   ]
  },
  {
   "cell_type": "raw",
   "id": "deeafc53",
   "metadata": {},
   "source": [
    "DISPLAYING NAME OF PERSON WITH HIGHEST TRANSACTION "
   ]
  },
  {
   "cell_type": "code",
   "execution_count": 24,
   "id": "328821c0",
   "metadata": {},
   "outputs": [
    {
     "data": {
      "image/png": "[encoded data removed]",
      "text/plain": [
       "<Figure size 720x432 with 1 Axes>"
      ]
     },
     "metadata": {
      "needs_background": "light"
     },
     "output_type": "display_data"
    }
   ],
   "source": [
    "max_transaction_row = df[df['amount'] == df['amount'].max()]\n",
    "lowest_transaction_row = df[df['amount'] == df['amount'].min()]\n",
    "\n",
    "# Get the name and amount of the person with the highest and lowest transactions\n",
    "person_with_highest_transaction = max_transaction_row['nameOrig'].iloc[0]\n",
    "person_with_lowest_transaction = lowest_transaction_row['nameOrig'].iloc[0]\n",
    "amount_highest_transaction = max_transaction_row['amount'].iloc[0]\n",
    "amount_lowest_transaction = lowest_transaction_row['amount'].iloc[0]\n",
    "\n",
    "plt.figure(figsize=(10, 6))  \n",
    "plt.bar(person_with_highest_transaction, amount_highest_transaction, color='purple', label='Highest Transaction')\n",
    "plt.bar(person_with_lowest_transaction, amount_lowest_transaction, color='orange', label='Lowest Transaction')\n",
    "plt.xlabel('Person')\n",
    "plt.ylabel('Transaction Amount')\n",
    "plt.title('Person with the Highest and Lowest Transaction')\n",
    "plt.legend()\n",
    "plt.show()"
   ]
  },
  {
   "cell_type": "raw",
   "id": "e90eca13",
   "metadata": {},
   "source": [
    "C1715283297 is customer with highest transaction recorded in our 30 day session and C276144878 is person with lowest transaction in our 30 days session"
   ]
  },
  {
   "cell_type": "markdown",
   "id": "9bae8fd6",
   "metadata": {},
   "source": [
    "# PREDICTIVE ANALYSIS "
   ]
  },
  {
   "cell_type": "markdown",
   "id": "7d53afe7",
   "metadata": {},
   "source": [
    "# . How did you select variables to be included in the model?\n",
    "Based on domain knowledge i dropped few in significant variables like customer name, step which could'nt make any significant impact to my machine learning model.Major impacting variables can be -\n",
    "Amount,oldbalanceOrg,newbalanceOrig,oldbalanceDes as this help us to identify a pattern in our dataset based on the transaction amount and original balance of our payee and recipent of the transaction."
   ]
  },
  {
   "cell_type": "raw",
   "id": "ca4cd888",
   "metadata": {},
   "source": [
    "Dropping few irrelevant columns which would not make any major impact to our machine learning model"
   ]
  },
  {
   "cell_type": "markdown",
   "id": "36825076",
   "metadata": {},
   "source": [
    "# . What are the key factors that predict fraudulent customer?. Do these factors make sense? If yes, How? If not, How not?\n",
    "KEY FACTORS -TYPE OF PAYMENT, AMOUNT TRANSFERED ,INITIAL BALANCES OF PAYEE AND RECIPIENT OF TRANSACTION.THIS ARE USED TO PREDICT TARGET VARIABLE ISFLAGGEDFRAUD(0/1).\n",
    "YES! THIS FACTOR MAKE SENSE AS THEY ARE VERY HELPFUL TO IDENTIFY TRENDS IN A PARTICULAR CUSTOMER IN REALTIME BASED ON THEIR FACTORS AS DISCUSSED ABOVE. \n",
    "A PARTICULAR CUSTOMER CAN BE FLAGGED FRAUD AT VERY EARLY STAGE WHICH WILL ENABLE US TO TARGET THOSE FRAUD PEOPLE BASED ON OUR ML ALGORITHM."
   ]
  },
  {
   "cell_type": "code",
   "execution_count": 26,
   "id": "b5e1e98e",
   "metadata": {},
   "outputs": [
    {
     "data": {
      "text/html": [
       "<div>\n",
       "<style scoped>\n",
       "    .dataframe tbody tr th:only-of-type {\n",
       "        vertical-align: middle;\n",
       "    }\n",
       "\n",
       "    .dataframe tbody tr th {\n",
       "        vertical-align: top;\n",
       "    }\n",
       "\n",
       "    .dataframe thead th {\n",
       "        text-align: right;\n",
       "    }\n",
       "</style>\n",
       "<table border=\"1\" class=\"dataframe\">\n",
       "  <thead>\n",
       "    <tr style=\"text-align: right;\">\n",
       "      <th></th>\n",
       "      <th>type</th>\n",
       "      <th>amount</th>\n",
       "      <th>oldbalanceOrg</th>\n",
       "      <th>newbalanceOrig</th>\n",
       "      <th>oldbalanceDest</th>\n",
       "      <th>isFlaggedFraud</th>\n",
       "    </tr>\n",
       "  </thead>\n",
       "  <tbody>\n",
       "    <tr>\n",
       "      <th>0</th>\n",
       "      <td>PAYMENT</td>\n",
       "      <td>9.194174</td>\n",
       "      <td>12.044353</td>\n",
       "      <td>11.984780</td>\n",
       "      <td>2.302585</td>\n",
       "      <td>Legal</td>\n",
       "    </tr>\n",
       "    <tr>\n",
       "      <th>1</th>\n",
       "      <td>PAYMENT</td>\n",
       "      <td>7.530630</td>\n",
       "      <td>9.964065</td>\n",
       "      <td>9.872240</td>\n",
       "      <td>2.302585</td>\n",
       "      <td>Legal</td>\n",
       "    </tr>\n",
       "    <tr>\n",
       "      <th>4</th>\n",
       "      <td>PAYMENT</td>\n",
       "      <td>9.364617</td>\n",
       "      <td>10.634749</td>\n",
       "      <td>10.305141</td>\n",
       "      <td>2.302585</td>\n",
       "      <td>Legal</td>\n",
       "    </tr>\n",
       "    <tr>\n",
       "      <th>5</th>\n",
       "      <td>PAYMENT</td>\n",
       "      <td>8.964147</td>\n",
       "      <td>10.894143</td>\n",
       "      <td>10.737316</td>\n",
       "      <td>2.302585</td>\n",
       "      <td>Legal</td>\n",
       "    </tr>\n",
       "    <tr>\n",
       "      <th>6</th>\n",
       "      <td>PAYMENT</td>\n",
       "      <td>8.868944</td>\n",
       "      <td>12.118306</td>\n",
       "      <td>12.078735</td>\n",
       "      <td>2.302585</td>\n",
       "      <td>Legal</td>\n",
       "    </tr>\n",
       "    <tr>\n",
       "      <th>...</th>\n",
       "      <td>...</td>\n",
       "      <td>...</td>\n",
       "      <td>...</td>\n",
       "      <td>...</td>\n",
       "      <td>...</td>\n",
       "      <td>...</td>\n",
       "    </tr>\n",
       "    <tr>\n",
       "      <th>6362615</th>\n",
       "      <td>CASH_OUT</td>\n",
       "      <td>12.735766</td>\n",
       "      <td>12.735766</td>\n",
       "      <td>2.302585</td>\n",
       "      <td>2.302585</td>\n",
       "      <td>Fraud</td>\n",
       "    </tr>\n",
       "    <tr>\n",
       "      <th>6362616</th>\n",
       "      <td>TRANSFER</td>\n",
       "      <td>15.657870</td>\n",
       "      <td>15.657870</td>\n",
       "      <td>2.302585</td>\n",
       "      <td>2.302585</td>\n",
       "      <td>Fraud</td>\n",
       "    </tr>\n",
       "    <tr>\n",
       "      <th>6362617</th>\n",
       "      <td>CASH_OUT</td>\n",
       "      <td>15.657870</td>\n",
       "      <td>15.657870</td>\n",
       "      <td>2.302585</td>\n",
       "      <td>11.134426</td>\n",
       "      <td>Fraud</td>\n",
       "    </tr>\n",
       "    <tr>\n",
       "      <th>6362618</th>\n",
       "      <td>TRANSFER</td>\n",
       "      <td>13.652995</td>\n",
       "      <td>13.652995</td>\n",
       "      <td>2.302585</td>\n",
       "      <td>2.302585</td>\n",
       "      <td>Fraud</td>\n",
       "    </tr>\n",
       "    <tr>\n",
       "      <th>6362619</th>\n",
       "      <td>CASH_OUT</td>\n",
       "      <td>13.652995</td>\n",
       "      <td>13.652995</td>\n",
       "      <td>2.302585</td>\n",
       "      <td>15.688865</td>\n",
       "      <td>Fraud</td>\n",
       "    </tr>\n",
       "  </tbody>\n",
       "</table>\n",
       "<p>6219978 rows × 6 columns</p>\n",
       "</div>"
      ],
      "text/plain": [
       "             type     amount  oldbalanceOrg  newbalanceOrig  oldbalanceDest  \\\n",
       "0         PAYMENT   9.194174      12.044353       11.984780        2.302585   \n",
       "1         PAYMENT   7.530630       9.964065        9.872240        2.302585   \n",
       "4         PAYMENT   9.364617      10.634749       10.305141        2.302585   \n",
       "5         PAYMENT   8.964147      10.894143       10.737316        2.302585   \n",
       "6         PAYMENT   8.868944      12.118306       12.078735        2.302585   \n",
       "...           ...        ...            ...             ...             ...   \n",
       "6362615  CASH_OUT  12.735766      12.735766        2.302585        2.302585   \n",
       "6362616  TRANSFER  15.657870      15.657870        2.302585        2.302585   \n",
       "6362617  CASH_OUT  15.657870      15.657870        2.302585       11.134426   \n",
       "6362618  TRANSFER  13.652995      13.652995        2.302585        2.302585   \n",
       "6362619  CASH_OUT  13.652995      13.652995        2.302585       15.688865   \n",
       "\n",
       "        isFlaggedFraud  \n",
       "0                Legal  \n",
       "1                Legal  \n",
       "4                Legal  \n",
       "5                Legal  \n",
       "6                Legal  \n",
       "...                ...  \n",
       "6362615          Fraud  \n",
       "6362616          Fraud  \n",
       "6362617          Fraud  \n",
       "6362618          Fraud  \n",
       "6362619          Fraud  \n",
       "\n",
       "[6219978 rows x 6 columns]"
      ]
     },
     "execution_count": 26,
     "metadata": {},
     "output_type": "execute_result"
    }
   ],
   "source": [
    "df"
   ]
  },
  {
   "cell_type": "raw",
   "id": "99646e93",
   "metadata": {},
   "source": [
    "LABEL OUR CATEGORICAL VARIABLE BY USING LABEL ENCODER"
   ]
  },
  {
   "cell_type": "code",
   "execution_count": 27,
   "id": "ef49d387",
   "metadata": {},
   "outputs": [],
   "source": [
    "# Initialize LabelEncoder for 'type' variable\n",
    "type_label_encoder = LabelEncoder()\n",
    "\n",
    "# Initialize LabelEncoder for 'isFlaggedFraud' variable\n",
    "flagged_fraud_label_encoder = LabelEncoder()\n",
    "\n",
    "# Label encode the 'type' and 'isFlaggedFraud' variables\n",
    "df['type_encoded'] = type_label_encoder.fit_transform(df['type'])\n",
    "df['isFlaggedFraud_encoded'] = flagged_fraud_label_encoder.fit_transform(df['isFlaggedFraud'])\n"
   ]
  },
  {
   "cell_type": "code",
   "execution_count": 29,
   "id": "e8ec88fc",
   "metadata": {},
   "outputs": [
    {
     "data": {
      "text/html": [
       "<div>\n",
       "<style scoped>\n",
       "    .dataframe tbody tr th:only-of-type {\n",
       "        vertical-align: middle;\n",
       "    }\n",
       "\n",
       "    .dataframe tbody tr th {\n",
       "        vertical-align: top;\n",
       "    }\n",
       "\n",
       "    .dataframe thead th {\n",
       "        text-align: right;\n",
       "    }\n",
       "</style>\n",
       "<table border=\"1\" class=\"dataframe\">\n",
       "  <thead>\n",
       "    <tr style=\"text-align: right;\">\n",
       "      <th></th>\n",
       "      <th>type</th>\n",
       "      <th>amount</th>\n",
       "      <th>oldbalanceOrg</th>\n",
       "      <th>newbalanceOrig</th>\n",
       "      <th>oldbalanceDest</th>\n",
       "      <th>isFlaggedFraud</th>\n",
       "      <th>type_encoded</th>\n",
       "      <th>isFlaggedFraud_encoded</th>\n",
       "    </tr>\n",
       "  </thead>\n",
       "  <tbody>\n",
       "    <tr>\n",
       "      <th>0</th>\n",
       "      <td>PAYMENT</td>\n",
       "      <td>9.194174</td>\n",
       "      <td>12.044353</td>\n",
       "      <td>11.984780</td>\n",
       "      <td>2.302585</td>\n",
       "      <td>Legal</td>\n",
       "      <td>3</td>\n",
       "      <td>1</td>\n",
       "    </tr>\n",
       "    <tr>\n",
       "      <th>1</th>\n",
       "      <td>PAYMENT</td>\n",
       "      <td>7.530630</td>\n",
       "      <td>9.964065</td>\n",
       "      <td>9.872240</td>\n",
       "      <td>2.302585</td>\n",
       "      <td>Legal</td>\n",
       "      <td>3</td>\n",
       "      <td>1</td>\n",
       "    </tr>\n",
       "    <tr>\n",
       "      <th>4</th>\n",
       "      <td>PAYMENT</td>\n",
       "      <td>9.364617</td>\n",
       "      <td>10.634749</td>\n",
       "      <td>10.305141</td>\n",
       "      <td>2.302585</td>\n",
       "      <td>Legal</td>\n",
       "      <td>3</td>\n",
       "      <td>1</td>\n",
       "    </tr>\n",
       "    <tr>\n",
       "      <th>5</th>\n",
       "      <td>PAYMENT</td>\n",
       "      <td>8.964147</td>\n",
       "      <td>10.894143</td>\n",
       "      <td>10.737316</td>\n",
       "      <td>2.302585</td>\n",
       "      <td>Legal</td>\n",
       "      <td>3</td>\n",
       "      <td>1</td>\n",
       "    </tr>\n",
       "    <tr>\n",
       "      <th>6</th>\n",
       "      <td>PAYMENT</td>\n",
       "      <td>8.868944</td>\n",
       "      <td>12.118306</td>\n",
       "      <td>12.078735</td>\n",
       "      <td>2.302585</td>\n",
       "      <td>Legal</td>\n",
       "      <td>3</td>\n",
       "      <td>1</td>\n",
       "    </tr>\n",
       "    <tr>\n",
       "      <th>...</th>\n",
       "      <td>...</td>\n",
       "      <td>...</td>\n",
       "      <td>...</td>\n",
       "      <td>...</td>\n",
       "      <td>...</td>\n",
       "      <td>...</td>\n",
       "      <td>...</td>\n",
       "      <td>...</td>\n",
       "    </tr>\n",
       "    <tr>\n",
       "      <th>6362615</th>\n",
       "      <td>CASH_OUT</td>\n",
       "      <td>12.735766</td>\n",
       "      <td>12.735766</td>\n",
       "      <td>2.302585</td>\n",
       "      <td>2.302585</td>\n",
       "      <td>Fraud</td>\n",
       "      <td>1</td>\n",
       "      <td>0</td>\n",
       "    </tr>\n",
       "    <tr>\n",
       "      <th>6362616</th>\n",
       "      <td>TRANSFER</td>\n",
       "      <td>15.657870</td>\n",
       "      <td>15.657870</td>\n",
       "      <td>2.302585</td>\n",
       "      <td>2.302585</td>\n",
       "      <td>Fraud</td>\n",
       "      <td>4</td>\n",
       "      <td>0</td>\n",
       "    </tr>\n",
       "    <tr>\n",
       "      <th>6362617</th>\n",
       "      <td>CASH_OUT</td>\n",
       "      <td>15.657870</td>\n",
       "      <td>15.657870</td>\n",
       "      <td>2.302585</td>\n",
       "      <td>11.134426</td>\n",
       "      <td>Fraud</td>\n",
       "      <td>1</td>\n",
       "      <td>0</td>\n",
       "    </tr>\n",
       "    <tr>\n",
       "      <th>6362618</th>\n",
       "      <td>TRANSFER</td>\n",
       "      <td>13.652995</td>\n",
       "      <td>13.652995</td>\n",
       "      <td>2.302585</td>\n",
       "      <td>2.302585</td>\n",
       "      <td>Fraud</td>\n",
       "      <td>4</td>\n",
       "      <td>0</td>\n",
       "    </tr>\n",
       "    <tr>\n",
       "      <th>6362619</th>\n",
       "      <td>CASH_OUT</td>\n",
       "      <td>13.652995</td>\n",
       "      <td>13.652995</td>\n",
       "      <td>2.302585</td>\n",
       "      <td>15.688865</td>\n",
       "      <td>Fraud</td>\n",
       "      <td>1</td>\n",
       "      <td>0</td>\n",
       "    </tr>\n",
       "  </tbody>\n",
       "</table>\n",
       "<p>6219978 rows × 8 columns</p>\n",
       "</div>"
      ],
      "text/plain": [
       "             type     amount  oldbalanceOrg  newbalanceOrig  oldbalanceDest  \\\n",
       "0         PAYMENT   9.194174      12.044353       11.984780        2.302585   \n",
       "1         PAYMENT   7.530630       9.964065        9.872240        2.302585   \n",
       "4         PAYMENT   9.364617      10.634749       10.305141        2.302585   \n",
       "5         PAYMENT   8.964147      10.894143       10.737316        2.302585   \n",
       "6         PAYMENT   8.868944      12.118306       12.078735        2.302585   \n",
       "...           ...        ...            ...             ...             ...   \n",
       "6362615  CASH_OUT  12.735766      12.735766        2.302585        2.302585   \n",
       "6362616  TRANSFER  15.657870      15.657870        2.302585        2.302585   \n",
       "6362617  CASH_OUT  15.657870      15.657870        2.302585       11.134426   \n",
       "6362618  TRANSFER  13.652995      13.652995        2.302585        2.302585   \n",
       "6362619  CASH_OUT  13.652995      13.652995        2.302585       15.688865   \n",
       "\n",
       "        isFlaggedFraud  type_encoded  isFlaggedFraud_encoded  \n",
       "0                Legal             3                       1  \n",
       "1                Legal             3                       1  \n",
       "4                Legal             3                       1  \n",
       "5                Legal             3                       1  \n",
       "6                Legal             3                       1  \n",
       "...                ...           ...                     ...  \n",
       "6362615          Fraud             1                       0  \n",
       "6362616          Fraud             4                       0  \n",
       "6362617          Fraud             1                       0  \n",
       "6362618          Fraud             4                       0  \n",
       "6362619          Fraud             1                       0  \n",
       "\n",
       "[6219978 rows x 8 columns]"
      ]
     },
     "execution_count": 29,
     "metadata": {},
     "output_type": "execute_result"
    }
   ],
   "source": [
    "df"
   ]
  },
  {
   "cell_type": "raw",
   "id": "a58b2d41",
   "metadata": {},
   "source": [
    "Legal-1,Fraud-0  and PAYMENT-3,CASH_OUT-1,TRANSFER-4,CASH_IN-2"
   ]
  },
  {
   "cell_type": "raw",
   "id": "1207acf0",
   "metadata": {},
   "source": [
    "Getting Rid of Categorical columns"
   ]
  },
  {
   "cell_type": "code",
   "execution_count": 30,
   "id": "8aea4346",
   "metadata": {},
   "outputs": [],
   "source": [
    "df.drop(['type','isFlaggedFraud'], axis=1, inplace=True)"
   ]
  },
  {
   "cell_type": "raw",
   "id": "f7a7ff32",
   "metadata": {},
   "source": [
    "SPLITTING DATASET INTO TRAIN AND TEST DATA"
   ]
  },
  {
   "cell_type": "code",
   "execution_count": 64,
   "id": "afc6a2c4",
   "metadata": {},
   "outputs": [],
   "source": [
    "# Separate the features (X) and target variable (y)\n",
    "X = df1[['amount', 'oldbalanceOrg','newbalanceOrig', 'oldbalanceDest', 'type_encoded']]\n",
    "y = df1['isFlaggedFraud_encoded']\n",
    "\n",
    "# Split the data into train and test sets (80% train, 20% test)\n",
    "X_train, X_test, y_train, y_test = train_test_split(X, y, test_size=0.2, random_state=42)\n"
   ]
  },
  {
   "cell_type": "markdown",
   "id": "b74ba74b",
   "metadata": {},
   "source": [
    "# RESAMPLING OUR TRAIN DATA TO GET UNBIASED MODEL"
   ]
  },
  {
   "cell_type": "code",
   "execution_count": 65,
   "id": "a7a759b7",
   "metadata": {},
   "outputs": [],
   "source": [
    "#  Create SMOTE object\n",
    "smote = SMOTE(random_state=42)\n",
    "\n",
    "# Apply SMOTE to the training data only\n",
    "X_train_balanced, y_train_balanced = smote.fit_resample(X_train, y_train)"
   ]
  },
  {
   "cell_type": "markdown",
   "id": "1080d61e",
   "metadata": {},
   "source": [
    "# 4. Demonstrate the performance of the model by using best set of tools\n",
    "LOGISTIC REGRESSION IS USED TO CLASSIFY OUR CUSTOMERS BEHAVIOURS BASED ON WHICH WE CAN IDENTIFY FRAUD OR LEGAL CUSTOMER IN OUR BANKING SYSTEM"
   ]
  },
  {
   "cell_type": "code",
   "execution_count": 66,
   "id": "a7300526",
   "metadata": {},
   "outputs": [
    {
     "data": {
      "text/plain": [
       "LogisticRegression()"
      ]
     },
     "execution_count": 66,
     "metadata": {},
     "output_type": "execute_result"
    }
   ],
   "source": [
    "logreg = LogisticRegression()\n",
    "logreg.fit(X_train_balanced, y_train_balanced)"
   ]
  },
  {
   "cell_type": "code",
   "execution_count": 67,
   "id": "7c3f2c29",
   "metadata": {},
   "outputs": [],
   "source": [
    "y_pred1 = logreg.predict(X_test)"
   ]
  },
  {
   "cell_type": "code",
   "execution_count": 68,
   "id": "18001253",
   "metadata": {},
   "outputs": [
    {
     "name": "stdout",
     "output_type": "stream",
     "text": [
      "Accuracy: 0.9740537750925244\n",
      "Confusion Matrix:\n",
      "[[   1080       9]\n",
      " [  32268 1210639]]\n",
      "Classification Report:\n",
      "              precision    recall  f1-score   support\n",
      "\n",
      "           0       0.03      0.99      0.06      1089\n",
      "           1       1.00      0.97      0.99   1242907\n",
      "\n",
      "    accuracy                           0.97   1243996\n",
      "   macro avg       0.52      0.98      0.52   1243996\n",
      "weighted avg       1.00      0.97      0.99   1243996\n",
      "\n"
     ]
    }
   ],
   "source": [
    "accuracy = accuracy_score(y_test, y_pred1)\n",
    "print(\"Accuracy:\", accuracy)\n",
    "\n",
    "conf_matrix = confusion_matrix(y_test, y_pred1)\n",
    "print(\"Confusion Matrix:\")\n",
    "print(conf_matrix)\n",
    "\n",
    "report = classification_report(y_test, y_pred1)\n",
    "print(\"Classification Report:\")\n",
    "print(report)"
   ]
  },
  {
   "cell_type": "markdown",
   "id": "643827f4",
   "metadata": {},
   "source": [
    "# 7. What kind of prevention should be adopted while company update its infrastructure?"
   ]
  },
  {
   "cell_type": "raw",
   "id": "16c8053f",
   "metadata": {},
   "source": [
    "Flagged customers must be tracked at early stage of their transaction. So as to save money of our banking system and take a legal action accordingly."
   ]
  },
  {
   "cell_type": "markdown",
   "id": "f0e93927",
   "metadata": {},
   "source": [
    "# 8. Assuming these actions have been implemented, how would you determine if they work?\n",
    "BY increasing efficiency of our machine learning algorithm making it capable of tracking fraud customers with heavy transfers."
   ]
  }
 ],
 "metadata": {
  "kernelspec": {
   "display_name": "Python 3 (ipykernel)",
   "language": "python",
   "name": "python3"
  },
  "language_info": {
   "codemirror_mode": {
    "name": "ipython",
    "version": 3
   },
   "file_extension": ".py",
   "mimetype": "text/x-python",
   "name": "python",
   "nbconvert_exporter": "python",
   "pygments_lexer": "ipython3",
   "version": "3.9.12"
  }
 },
 "nbformat": 4,
 "nbformat_minor": 5
}
